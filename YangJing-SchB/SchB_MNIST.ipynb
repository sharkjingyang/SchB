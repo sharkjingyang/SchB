{
 "cells": [
  {
   "cell_type": "code",
   "execution_count": 26,
   "metadata": {},
   "outputs": [],
   "source": [
    "import torch\n",
    "import torch.nn as nn\n",
    "import torch.nn.functional as F\n",
    "import numpy as np\n",
    "import matplotlib.pyplot as plt\n",
    "import math\n",
    "import numpy\n",
    "from torch.nn.functional import pad\n",
    "import torch.nn.init as init\n",
    "import copy\n",
    "from torch import autograd\n",
    "from torchvision.utils import make_grid\n",
    "from torchdiffeq import odeint_adjoint as odeint\n",
    "\n",
    "\n",
    "\n",
    "class GaussianFourierProjection(nn.Module):\n",
    "  \"\"\"Gaussian random features for encoding time steps.\"\"\"\n",
    "  def __init__(self, embed_dim, scale=30.):\n",
    "    super().__init__()\n",
    "    # Randomly sample weights during initialization. These weights are fixed\n",
    "    # during optimization and are not trainable.\n",
    "    self.W = nn.Parameter(torch.randn(embed_dim // 2) * scale, requires_grad=False)\n",
    "  def forward(self, x):\n",
    "    x_proj = x[:, None] * self.W[None, :] * 2 * np.pi\n",
    "    return torch.cat([torch.sin(x_proj), torch.cos(x_proj)], dim=-1)\n",
    "\n",
    "\n",
    "class Dense(nn.Module):\n",
    "  \"\"\"A fully connected layer that reshapes outputs to feature maps.\"\"\"\n",
    "  def __init__(self, input_dim, output_dim):\n",
    "    super().__init__()\n",
    "    self.dense = nn.Linear(input_dim, output_dim)\n",
    "  def forward(self, x):\n",
    "    return self.dense(x)[..., None, None]\n",
    "\n",
    "\n",
    "class ScoreNet(nn.Module):\n",
    "  \"\"\"A time-dependent score-based model built upon U-Net architecture.\"\"\"\n",
    "\n",
    "  def __init__(self, channels=[32, 64, 128, 256], embed_dim=256):\n",
    "    \"\"\"Initialize a time-dependent score-based network.\n",
    "\n",
    "    Args:\n",
    "      marginal_prob_std: A function that takes time t and gives the standard\n",
    "        deviation of the perturbation kernel p_{0t}(x(t) | x(0)).\n",
    "      channels: The number of channels for feature maps of each resolution.\n",
    "      embed_dim: The dimensionality of Gaussian random feature embeddings.\n",
    "    \"\"\"\n",
    "    super().__init__()\n",
    "    # Gaussian random feature embedding layer for time\n",
    "    self.embed = nn.Sequential(GaussianFourierProjection(embed_dim=embed_dim),\n",
    "         nn.Linear(embed_dim, embed_dim))\n",
    "    # Encoding layers where the resolution decreases\n",
    "    self.conv1 = nn.Conv2d(1, channels[0], 3, stride=1, bias=False)\n",
    "    self.dense1 = Dense(embed_dim, channels[0])\n",
    "    self.gnorm1 = nn.GroupNorm(4, num_channels=channels[0])\n",
    "    self.conv2 = nn.Conv2d(channels[0], channels[1], 3, stride=2, bias=False)\n",
    "    self.dense2 = Dense(embed_dim, channels[1])\n",
    "    self.gnorm2 = nn.GroupNorm(32, num_channels=channels[1])\n",
    "    self.conv3 = nn.Conv2d(channels[1], channels[2], 3, stride=2, bias=False)\n",
    "    self.dense3 = Dense(embed_dim, channels[2])\n",
    "    self.gnorm3 = nn.GroupNorm(32, num_channels=channels[2])\n",
    "    self.conv4 = nn.Conv2d(channels[2], channels[3], 3, stride=2, bias=False)\n",
    "    self.dense4 = Dense(embed_dim, channels[3])\n",
    "    self.gnorm4 = nn.GroupNorm(32, num_channels=channels[3])\n",
    "\n",
    "    # Decoding layers where the resolution increases\n",
    "    self.tconv4 = nn.ConvTranspose2d(channels[3], channels[2], 3, stride=2, bias=False)\n",
    "    self.dense5 = Dense(embed_dim, channels[2])\n",
    "    self.tgnorm4 = nn.GroupNorm(32, num_channels=channels[2])\n",
    "    self.tconv3 = nn.ConvTranspose2d(channels[2] + channels[2], channels[1], 3, stride=2, bias=False, output_padding=1)\n",
    "    self.dense6 = Dense(embed_dim, channels[1])\n",
    "    self.tgnorm3 = nn.GroupNorm(32, num_channels=channels[1])\n",
    "    self.tconv2 = nn.ConvTranspose2d(channels[1] + channels[1], channels[0], 3, stride=2, bias=False, output_padding=1)\n",
    "    self.dense7 = Dense(embed_dim, channels[0])\n",
    "    self.tgnorm2 = nn.GroupNorm(32, num_channels=channels[0])\n",
    "    self.tconv1 = nn.ConvTranspose2d(channels[0] + channels[0], 1, 3, stride=1)\n",
    "\n",
    "    # The swish activation function\n",
    "    self.act = lambda x: x * torch.sigmoid(x)\n",
    "\n",
    "  def forward(self, x, t):\n",
    "    # Obtain the Gaussian random feature embedding for t\n",
    "    embed = self.act(self.embed(t))\n",
    "    # Encoding path\n",
    "    h1 = self.conv1(x)\n",
    "    ## Incorporate information from t\n",
    "    h1 += self.dense1(embed)\n",
    "    ## Group normalization\n",
    "    h1 = self.gnorm1(h1)\n",
    "    h1 = self.act(h1)\n",
    "    h2 = self.conv2(h1)\n",
    "    h2 += self.dense2(embed)\n",
    "    h2 = self.gnorm2(h2)\n",
    "    h2 = self.act(h2)\n",
    "    h3 = self.conv3(h2)\n",
    "    h3 += self.dense3(embed)\n",
    "    h3 = self.gnorm3(h3)\n",
    "    h3 = self.act(h3)\n",
    "    h4 = self.conv4(h3)\n",
    "    h4 += self.dense4(embed)\n",
    "    h4 = self.gnorm4(h4)\n",
    "    h4 = self.act(h4)\n",
    "\n",
    "    # Decoding path\n",
    "    h = self.tconv4(h4)\n",
    "    ## Skip connection from the encoding path\n",
    "    h += self.dense5(embed)\n",
    "    h = self.tgnorm4(h)\n",
    "    h = self.act(h)\n",
    "    h = self.tconv3(torch.cat([h, h3], dim=1))\n",
    "    h += self.dense6(embed)\n",
    "    h = self.tgnorm3(h)\n",
    "    h = self.act(h)\n",
    "    h = self.tconv2(torch.cat([h, h2], dim=1))\n",
    "    h += self.dense7(embed)\n",
    "    h = self.tgnorm2(h)\n",
    "    h = self.act(h)\n",
    "    h = self.tconv1(torch.cat([h, h1], dim=1))\n",
    "\n",
    "    # Normalize output\n",
    "    h = h \n",
    "    return h\n",
    "\n",
    "\n",
    "\n"
   ]
  },
  {
   "cell_type": "code",
   "execution_count": 27,
   "metadata": {},
   "outputs": [
    {
     "name": "stderr",
     "output_type": "stream",
     "text": [
      "  0%|          | 0/10 [00:21<?, ?it/s]\n"
     ]
    }
   ],
   "source": [
    "import functools\n",
    "device = 'cuda' #@param ['cuda', 'cpu'] {'type':'string'}\n",
    "\n",
    "from torch.optim import Adam,AdamW\n",
    "from torch.utils.data import DataLoader\n",
    "import torchvision.transforms as transforms\n",
    "from torchvision.datasets import MNIST\n",
    "import tqdm\n",
    "from torch.optim.lr_scheduler import OneCycleLR\n",
    "\n",
    "\n",
    "\n",
    "f_theta = torch.nn.DataParallel(ScoreNet())\n",
    "f_theta = f_theta.to(device)\n",
    "\n",
    "n_epochs =   10#@param {'type':'integer'}\n",
    "## size of a mini-batch\n",
    "batch_size =  128 #@param {'type':'integer'}\n",
    "## learning rate\n",
    "lr=1e-4 #@param {'type':'number'}\n",
    "d=28*28*1\n",
    "tspan=[0,1]\n",
    "nt=8\n",
    "h=(tspan[1]-tspan[0])/nt\n",
    "dataset = MNIST('.', train=True, transform=transforms.ToTensor(), download=True)\n",
    "data_loader = DataLoader(dataset, batch_size=batch_size, shuffle=True, num_workers=4)\n",
    "\n",
    "optim = Adam(f_theta.parameters(), lr=lr)\n",
    "\n",
    "# optim=AdamW(f_theta.parameters(),lr=lr)\n",
    "# scheduler=OneCycleLR(optim,lr,total_steps=n_epochs*len(data_loader),pct_start=0.25,anneal_strategy='cos')\n",
    "\n",
    "\n",
    "tqdm_epoch = tqdm.trange(n_epochs)\n"
   ]
  },
  {
   "cell_type": "code",
   "execution_count": 28,
   "metadata": {},
   "outputs": [
    {
     "name": "stdout",
     "output_type": "stream",
     "text": [
      "tensor(-1112.6425)\n"
     ]
    }
   ],
   "source": [
    "def log_Gaussian(x,d):\n",
    "    return -d/2*math.log(2*math.pi)-torch.sum(x**2,dim=1).reshape(-1,1)/2\n",
    "\n",
    "def grad_log_Gaussian(x):\n",
    "    return -x\n",
    "\n",
    "\n",
    "\n",
    "x=torch.randn((1000,784))\n",
    "print(torch.mean(log_Gaussian(x,d=784)))\n",
    "\n",
    "\n"
   ]
  },
  {
   "cell_type": "code",
   "execution_count": 29,
   "metadata": {},
   "outputs": [],
   "source": [
    "def stepRK4(odefun, z, net,t0, t1):\n",
    "    h = t1 - t0 # step size\n",
    "    z0 = z\n",
    "    K = h * odefun(z0, t0, net)\n",
    "    z_temp = z0 + (1.0/6.0) * K\n",
    "    K = h * odefun( z0 + 0.5*K , t0+(h/2) ,net)\n",
    "    z_temp =z_temp+ (2.0/6.0) * K\n",
    "    K = h * odefun( z0 + 0.5*K , t0+(h/2) ,net)\n",
    "    z_temp = z_temp+(2.0/6.0) * K\n",
    "    K = h * odefun( z0 + K , t0+h ,net)\n",
    "    z_temp = z_temp+(1.0/6.0) * K\n",
    "    return z_temp\n",
    "\n",
    "\n",
    "\n",
    "def stepRK1(odefun, z, net,t0, t1):\n",
    "    z0 = z\n",
    "    z_temp =z0 + (t1 - t0) * odefun(z0, t0, net)\n",
    "\n",
    "    return z_temp\n",
    "\n",
    "def odefun(x, t, net):\n",
    "    # x=x.reshape(x.shape[0],1,28,28)\n",
    "    batch_time_step = torch.ones(x.shape[0], device=device) * t\n",
    "    dx=net(x, batch_time_step)\n",
    "    return dx\n",
    "\n",
    "\n",
    "def odefun_backward(cat_var, t, net):\n",
    "    x=cat_var[:,0:d].reshape(cat_var.shape[0],1,28,28)\n",
    "    # score=cat_var[:,d+1:-1]\n",
    "\n",
    "    divergence_f=torch.zeros(x.shape[0],device=device)\n",
    "    batch_time_step = torch.ones(x.shape[0], device=device) * t\n",
    "    f=net(x, batch_time_step).reshape(x.shape[0],-1)\n",
    "\n",
    "    \n",
    "    #近似计算divergence_f\n",
    "    v=torch.randn(f.shape).to(device)\n",
    "    vf=torch.sum(f*v, dim=1)\n",
    "    \n",
    "    a=autograd.grad(vf.sum(),x,create_graph=True)[0].reshape(x.shape[0],-1)\n",
    "    divergence_f=torch.sum(a*v, dim=1)\n",
    "    d_log=-divergence_f.reshape(-1,1)\n",
    "\n",
    "    return torch.cat((f,d_log),dim=1)\n",
    "\n",
    "\n",
    "\n"
   ]
  },
  {
   "cell_type": "code",
   "execution_count": 30,
   "metadata": {},
   "outputs": [
    {
     "data": {
      "image/png": "[encoded data removed]",
      "text/plain": [
       "<Figure size 576x144 with 1 Axes>"
      ]
     },
     "metadata": {
      "needs_background": "light"
     },
     "output_type": "display_data"
    },
    {
     "data": {
      "image/png": "[encoded data removed]",
      "text/plain": [
       "<Figure size 576x144 with 1 Axes>"
      ]
     },
     "metadata": {
      "needs_background": "light"
     },
     "output_type": "display_data"
    },
    {
     "data": {
      "image/png": "[encoded data removed]",
      "text/plain": [
       "<Figure size 720x144 with 1 Axes>"
      ]
     },
     "metadata": {
      "needs_background": "light"
     },
     "output_type": "display_data"
    }
   ],
   "source": [
    "for x, y in data_loader:\n",
    "    x = x.to(device)\n",
    "    samples=x[0:4,:,:,:].clamp(0.0, 1.0).cpu().detach()\n",
    "    sample_grid = make_grid(samples, nrow=4)\n",
    "    plt.figure(figsize=(8,2))\n",
    "    plt.axis('off')\n",
    "    plt.imshow(sample_grid.permute(1, 2, 0).cpu(), vmin=0., vmax=1.)\n",
    "    plt.show()\n",
    "\n",
    "\n",
    "    z_temp,tk=x,0\n",
    "    for k in range(nt):\n",
    "        tk=h*k\n",
    "        z_temp = stepRK4(odefun, z_temp , f_theta, tk, tk+h)\n",
    "\n",
    "    samples=z_temp[0:4,:,:,:].clamp(0.0, 1.0).cpu().detach()\n",
    "\n",
    "    sample_grid = make_grid(samples, nrow=4)\n",
    "    plt.figure(figsize=(8,2))\n",
    "    plt.axis('off')\n",
    "    plt.imshow(sample_grid.permute(1, 2, 0).cpu(), vmin=0., vmax=1.)\n",
    "    plt.show()\n",
    "\n",
    "    z_T=x[0,:,:,:].unsqueeze(0)\n",
    "    z_temp,tk=x[0,:,:,:].unsqueeze(0),0\n",
    "    for k in range(nt):\n",
    "        tk=h*k\n",
    "        z_temp = stepRK4(odefun, z_temp , f_theta, tk, tk+h)\n",
    "    \n",
    "        z_T=torch.cat((z_T,z_temp),dim=0)\n",
    "    samples=z_T.cpu().clamp(0.0, 1.0).detach()\n",
    "\n",
    "    sample_grid = make_grid(samples,nrow=9)\n",
    "    plt.figure(figsize=(10,2))\n",
    "    plt.axis('off')\n",
    "    plt.imshow(sample_grid.permute(1, 2, 0).cpu(), vmin=0., vmax=1.)\n",
    "    plt.show()\n",
    "\n",
    "    break\n"
   ]
  },
  {
   "cell_type": "code",
   "execution_count": 31,
   "metadata": {},
   "outputs": [
    {
     "name": "stdout",
     "output_type": "stream",
     "text": [
      "Epoch 1/10:\n"
     ]
    },
    {
     "name": "stderr",
     "output_type": "stream",
     "text": [
      "Loss: 6.399333 :  28%|██▊       | 130/469 [10:25<27:11,  4.81s/batch, loss=-870]   \n"
     ]
    },
    {
     "ename": "KeyboardInterrupt",
     "evalue": "",
     "output_type": "error",
     "traceback": [
      "\u001b[0;31m---------------------------------------------------------------------------\u001b[0m",
      "\u001b[0;31mKeyboardInterrupt\u001b[0m                         Traceback (most recent call last)",
      "\u001b[0;32m<ipython-input-31-02c1d4dc81a8>\u001b[0m in \u001b[0;36m<module>\u001b[0;34m\u001b[0m\n\u001b[1;32m     28\u001b[0m             \u001b[0;32mfor\u001b[0m \u001b[0mk\u001b[0m \u001b[0;32min\u001b[0m  \u001b[0mrange\u001b[0m\u001b[0;34m(\u001b[0m\u001b[0mnt\u001b[0m\u001b[0;34m)\u001b[0m\u001b[0;34m:\u001b[0m\u001b[0;34m\u001b[0m\u001b[0;34m\u001b[0m\u001b[0m\n\u001b[1;32m     29\u001b[0m                 \u001b[0mtk\u001b[0m\u001b[0;34m=\u001b[0m\u001b[0;36m1\u001b[0m\u001b[0;34m-\u001b[0m\u001b[0mk\u001b[0m\u001b[0;34m*\u001b[0m\u001b[0mh\u001b[0m\u001b[0;34m\u001b[0m\u001b[0;34m\u001b[0m\u001b[0m\n\u001b[0;32m---> 30\u001b[0;31m                 \u001b[0mcat_var\u001b[0m\u001b[0;34m=\u001b[0m \u001b[0mstepRK4\u001b[0m\u001b[0;34m(\u001b[0m\u001b[0modefun_backward\u001b[0m\u001b[0;34m,\u001b[0m \u001b[0mcat_var\u001b[0m \u001b[0;34m,\u001b[0m \u001b[0mf_theta\u001b[0m\u001b[0;34m,\u001b[0m \u001b[0mtk\u001b[0m\u001b[0;34m,\u001b[0m \u001b[0mtk\u001b[0m\u001b[0;34m-\u001b[0m\u001b[0mh\u001b[0m\u001b[0;34m)\u001b[0m\u001b[0;34m\u001b[0m\u001b[0;34m\u001b[0m\u001b[0m\n\u001b[0m\u001b[1;32m     31\u001b[0m \u001b[0;34m\u001b[0m\u001b[0m\n\u001b[1;32m     32\u001b[0m \u001b[0;34m\u001b[0m\u001b[0m\n",
      "\u001b[0;32m<ipython-input-29-75190b3a20de>\u001b[0m in \u001b[0;36mstepRK4\u001b[0;34m(odefun, z, net, t0, t1)\u001b[0m\n\u001b[1;32m      6\u001b[0m     \u001b[0mK\u001b[0m \u001b[0;34m=\u001b[0m \u001b[0mh\u001b[0m \u001b[0;34m*\u001b[0m \u001b[0modefun\u001b[0m\u001b[0;34m(\u001b[0m \u001b[0mz0\u001b[0m \u001b[0;34m+\u001b[0m \u001b[0;36m0.5\u001b[0m\u001b[0;34m*\u001b[0m\u001b[0mK\u001b[0m \u001b[0;34m,\u001b[0m \u001b[0mt0\u001b[0m\u001b[0;34m+\u001b[0m\u001b[0;34m(\u001b[0m\u001b[0mh\u001b[0m\u001b[0;34m/\u001b[0m\u001b[0;36m2\u001b[0m\u001b[0;34m)\u001b[0m \u001b[0;34m,\u001b[0m\u001b[0mnet\u001b[0m\u001b[0;34m)\u001b[0m\u001b[0;34m\u001b[0m\u001b[0;34m\u001b[0m\u001b[0m\n\u001b[1;32m      7\u001b[0m     \u001b[0mz_temp\u001b[0m \u001b[0;34m=\u001b[0m\u001b[0mz_temp\u001b[0m\u001b[0;34m+\u001b[0m \u001b[0;34m(\u001b[0m\u001b[0;36m2.0\u001b[0m\u001b[0;34m/\u001b[0m\u001b[0;36m6.0\u001b[0m\u001b[0;34m)\u001b[0m \u001b[0;34m*\u001b[0m \u001b[0mK\u001b[0m\u001b[0;34m\u001b[0m\u001b[0;34m\u001b[0m\u001b[0m\n\u001b[0;32m----> 8\u001b[0;31m     \u001b[0mK\u001b[0m \u001b[0;34m=\u001b[0m \u001b[0mh\u001b[0m \u001b[0;34m*\u001b[0m \u001b[0modefun\u001b[0m\u001b[0;34m(\u001b[0m \u001b[0mz0\u001b[0m \u001b[0;34m+\u001b[0m \u001b[0;36m0.5\u001b[0m\u001b[0;34m*\u001b[0m\u001b[0mK\u001b[0m \u001b[0;34m,\u001b[0m \u001b[0mt0\u001b[0m\u001b[0;34m+\u001b[0m\u001b[0;34m(\u001b[0m\u001b[0mh\u001b[0m\u001b[0;34m/\u001b[0m\u001b[0;36m2\u001b[0m\u001b[0;34m)\u001b[0m \u001b[0;34m,\u001b[0m\u001b[0mnet\u001b[0m\u001b[0;34m)\u001b[0m\u001b[0;34m\u001b[0m\u001b[0;34m\u001b[0m\u001b[0m\n\u001b[0m\u001b[1;32m      9\u001b[0m     \u001b[0mz_temp\u001b[0m \u001b[0;34m=\u001b[0m \u001b[0mz_temp\u001b[0m\u001b[0;34m+\u001b[0m\u001b[0;34m(\u001b[0m\u001b[0;36m2.0\u001b[0m\u001b[0;34m/\u001b[0m\u001b[0;36m6.0\u001b[0m\u001b[0;34m)\u001b[0m \u001b[0;34m*\u001b[0m \u001b[0mK\u001b[0m\u001b[0;34m\u001b[0m\u001b[0;34m\u001b[0m\u001b[0m\n\u001b[1;32m     10\u001b[0m     \u001b[0mK\u001b[0m \u001b[0;34m=\u001b[0m \u001b[0mh\u001b[0m \u001b[0;34m*\u001b[0m \u001b[0modefun\u001b[0m\u001b[0;34m(\u001b[0m \u001b[0mz0\u001b[0m \u001b[0;34m+\u001b[0m \u001b[0mK\u001b[0m \u001b[0;34m,\u001b[0m \u001b[0mt0\u001b[0m\u001b[0;34m+\u001b[0m\u001b[0mh\u001b[0m \u001b[0;34m,\u001b[0m\u001b[0mnet\u001b[0m\u001b[0;34m)\u001b[0m\u001b[0;34m\u001b[0m\u001b[0;34m\u001b[0m\u001b[0m\n",
      "\u001b[0;32m<ipython-input-29-75190b3a20de>\u001b[0m in \u001b[0;36modefun_backward\u001b[0;34m(cat_var, t, net)\u001b[0m\n\u001b[1;32m     37\u001b[0m \u001b[0;34m\u001b[0m\u001b[0m\n\u001b[1;32m     38\u001b[0m     \u001b[0;31m#近似计算divergence_f\u001b[0m\u001b[0;34m\u001b[0m\u001b[0;34m\u001b[0m\u001b[0;34m\u001b[0m\u001b[0m\n\u001b[0;32m---> 39\u001b[0;31m     \u001b[0mv\u001b[0m\u001b[0;34m=\u001b[0m\u001b[0mtorch\u001b[0m\u001b[0;34m.\u001b[0m\u001b[0mrandn\u001b[0m\u001b[0;34m(\u001b[0m\u001b[0mf\u001b[0m\u001b[0;34m.\u001b[0m\u001b[0mshape\u001b[0m\u001b[0;34m)\u001b[0m\u001b[0;34m.\u001b[0m\u001b[0mto\u001b[0m\u001b[0;34m(\u001b[0m\u001b[0mdevice\u001b[0m\u001b[0;34m)\u001b[0m\u001b[0;34m\u001b[0m\u001b[0;34m\u001b[0m\u001b[0m\n\u001b[0m\u001b[1;32m     40\u001b[0m     \u001b[0mvf\u001b[0m\u001b[0;34m=\u001b[0m\u001b[0mtorch\u001b[0m\u001b[0;34m.\u001b[0m\u001b[0msum\u001b[0m\u001b[0;34m(\u001b[0m\u001b[0mf\u001b[0m\u001b[0;34m*\u001b[0m\u001b[0mv\u001b[0m\u001b[0;34m,\u001b[0m \u001b[0mdim\u001b[0m\u001b[0;34m=\u001b[0m\u001b[0;36m1\u001b[0m\u001b[0;34m)\u001b[0m\u001b[0;34m\u001b[0m\u001b[0;34m\u001b[0m\u001b[0m\n\u001b[1;32m     41\u001b[0m \u001b[0;34m\u001b[0m\u001b[0m\n",
      "\u001b[0;31mKeyboardInterrupt\u001b[0m: "
     ]
    }
   ],
   "source": [
    "from tqdm import tqdm\n",
    "llh_record=[]\n",
    "loss_record=[]\n",
    "for epoch in range(n_epochs):\n",
    "    print(f\"Epoch {epoch+1}/{n_epochs}:\")\n",
    "    with tqdm(data_loader, unit=\"batch\") as tepoch:\n",
    "        for batch in tepoch:\n",
    "            x,y=batch\n",
    "            x = x.to(device)\n",
    "            \n",
    "            z_temp,tk=x,0\n",
    "            for k in range(nt):\n",
    "                tk=h*k\n",
    "                z_temp = stepRK4(odefun, z_temp , f_theta, tk, tk+h)\n",
    "\n",
    "            z_terminal=z_temp\n",
    "            log_terminal=log_Gaussian(x=z_terminal.reshape(x.shape[0],-1),d=784)\n",
    "            log_temp=log_terminal\n",
    "            \n",
    "            # grad_terminal=grad_log_Gaussian(z_terminal)\n",
    "            # score_Full=grad_terminal.unsqueeze(4)\n",
    "\n",
    "            z_back=z_terminal.reshape(x.shape[0],-1)\n",
    "            cat_var=torch.cat((z_back,log_temp),dim=1)\n",
    "            \n",
    "\n",
    "            \n",
    "            for k in  range(nt):\n",
    "                tk=1-k*h\n",
    "                cat_var= stepRK4(odefun_backward, cat_var , f_theta, tk, tk-h)\n",
    "            \n",
    "\n",
    "                \n",
    "            z,log_temp=cat_var[:,0:d],cat_var[:,d]\n",
    "            optim.zero_grad()\n",
    "\n",
    "            loss=-torch.mean(log_temp)\n",
    "            loss.backward()\n",
    "            optim.step()\n",
    "            # scheduler.step()\n",
    "\n",
    "            llh_record.append(-torch.mean(log_temp).detach().cpu())\n",
    "            tepoch.set_description('Loss: {:5f} '.format(-torch.mean(log_temp).detach().cpu()/math.log(2)/d+8))\n",
    "            tepoch.set_postfix(loss=loss.item())\n",
    "    torch.save(f_theta.state_dict(), 'experiment/MNIST.pth')\n",
    "    if (epoch+1) % 200 == 0:\n",
    "            for p in optim.param_groups:\n",
    "                p['lr'] /= 2\n",
    "            print(\"lr: \", p['lr'])\n",
    "\n",
    "\n",
    "\n",
    "\n",
    "        \n",
    "\n",
    "        "
   ]
  },
  {
   "cell_type": "code",
   "execution_count": 32,
   "metadata": {},
   "outputs": [
    {
     "data": {
      "image/png": "[encoded data removed]",
      "text/plain": [
       "<Figure size 432x288 with 1 Axes>"
      ]
     },
     "metadata": {
      "needs_background": "light"
     },
     "output_type": "display_data"
    }
   ],
   "source": [
    "from plot_tools import *\n",
    "\n",
    "# plot_loss(llh_record)\n",
    "plot_loss(llh_record)"
   ]
  },
  {
   "cell_type": "code",
   "execution_count": 33,
   "metadata": {},
   "outputs": [
    {
     "data": {
      "image/png": "[encoded data removed]",
      "text/plain": [
       "<Figure size 576x144 with 1 Axes>"
      ]
     },
     "metadata": {
      "needs_background": "light"
     },
     "output_type": "display_data"
    },
    {
     "data": {
      "image/png": "[encoded data removed]",
      "text/plain": [
       "<Figure size 576x144 with 1 Axes>"
      ]
     },
     "metadata": {
      "needs_background": "light"
     },
     "output_type": "display_data"
    }
   ],
   "source": [
    "for x, y in data_loader:\n",
    "    x = x[0:4,:,:,:].to(device)\n",
    "    samples=x[0:4,:,:,:].clamp(0.0, 1.0).cpu().detach()\n",
    "    sample_grid = make_grid(samples, nrow=4)\n",
    "    plt.figure(figsize=(8,2))\n",
    "    plt.axis('off')\n",
    "    plt.imshow(sample_grid.permute(1, 2, 0).cpu(), vmin=0., vmax=1.)\n",
    "    plt.show()\n",
    "\n",
    "\n",
    "    z_temp,tk=x,0\n",
    "    for k in range(nt):\n",
    "        tk=h*k\n",
    "        z_temp = stepRK4(odefun, z_temp , f_theta, tk, tk+h)\n",
    "\n",
    "    z_terminal=z_temp\n",
    "    log_terminal=log_Gaussian(x=z_terminal.reshape(x.shape[0],-1),d=784)\n",
    "    log_temp=log_terminal\n",
    "    z_back=z_terminal.reshape(x.shape[0],-1)\n",
    "    cat_var=torch.cat((z_back,log_temp),dim=1)\n",
    "    \n",
    "    for k in  range(nt):\n",
    "        tk=1-k*h\n",
    "        cat_var= stepRK4(odefun_backward, cat_var , f_theta, tk, tk-h)\n",
    "    z,log_temp=cat_var[:,0:d].reshape(-1,1,28,28),cat_var[:,d]\n",
    "    samples=z.clamp(0.0, 1.0).cpu().detach()\n",
    "    sample_grid = make_grid(samples,nrow=4)\n",
    "    plt.figure(figsize=(8,2))\n",
    "    plt.axis('off')\n",
    "    plt.imshow(sample_grid.permute(1, 2, 0).cpu(), vmin=0., vmax=1.)\n",
    "    plt.show()\n",
    "\n",
    "    break"
   ]
  },
  {
   "cell_type": "code",
   "execution_count": null,
   "metadata": {},
   "outputs": [],
   "source": [
    "\n",
    "x=torch.randn(16,1,28,28).to(device)\n",
    "zFull = torch.zeros(*x.shape , nt+1, device=x.device, dtype=x.dtype) # make tensor of size z.shape[0], z.shape[1], nt\n",
    "\n",
    "z_temp = x\n",
    "\n",
    "for k in range(nt):\n",
    "    tk=1-h*k\n",
    "    z_temp = stepRK4(odefun, z_temp , f_theta, tk, tk-h)\n",
    "\n",
    "z_gen=z_temp\n",
    "samples=z_gen.clamp(0.0, 1.0).cpu().detach()\n",
    "%matplotlib inline\n",
    "\n",
    "sample_grid = make_grid(samples, nrow=int(np.sqrt(16)))\n",
    "\n",
    "plt.figure(figsize=(10,10))\n",
    "plt.axis('off')\n",
    "plt.imshow(sample_grid.permute(1, 2, 0).cpu(), vmin=0., vmax=1.)\n",
    "plt.show()\n",
    "\n",
    "\n",
    "\n",
    "# samples=zFull[0:16,:,:,:,-1].clamp(0.0, 1.0).cpu().detach()\n",
    "# %matplotlib inline\n",
    "\n",
    "# sample_grid = make_grid(samples, nrow=int(np.sqrt(16)))\n",
    "\n",
    "# plt.figure(figsize=(10,10))\n",
    "# plt.axis('off')\n",
    "# plt.imshow(sample_grid.permute(1, 2, 0).cpu(), vmin=0., vmax=1.)\n",
    "# plt.show()"
   ]
  }
 ],
 "metadata": {
  "kernelspec": {
   "display_name": "Python 3",
   "language": "python",
   "name": "python3"
  },
  "language_info": {
   "codemirror_mode": {
    "name": "ipython",
    "version": 3
   },
   "file_extension": ".py",
   "mimetype": "text/x-python",
   "name": "python",
   "nbconvert_exporter": "python",
   "pygments_lexer": "ipython3",
   "version": "3.8.10"
  }
 },
 "nbformat": 4,
 "nbformat_minor": 2
}
