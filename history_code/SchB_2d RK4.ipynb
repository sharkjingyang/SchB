{
 "cells": [
  {
   "cell_type": "code",
   "execution_count": 1,
   "metadata": {},
   "outputs": [],
   "source": [
    "import torch\n",
    "import torch.nn as nn\n",
    "import torch.nn.functional as F\n",
    "import numpy as np\n",
    "import matplotlib.pyplot as plt\n",
    "import math\n",
    "import numpy\n",
    "from torch.nn.functional import pad\n",
    "import torch.nn.init as init\n",
    "import copy\n",
    "from torch import autograd\n",
    "from torchvision.utils import make_grid\n",
    "from torch.optim import Adam,AdamW\n",
    "from torch.utils.data import DataLoader,TensorDataset\n",
    "import torchvision.transforms as transforms\n",
    "from torchvision.datasets import MNIST\n",
    "import tqdm\n",
    "import functools\n",
    "import time\n",
    "from torchdiffeq import odeint_adjoint,odeint\n",
    "\n",
    "\n",
    "from network_class import *\n",
    "from utils import *\n"
   ]
  },
  {
   "cell_type": "code",
   "execution_count": 2,
   "metadata": {},
   "outputs": [],
   "source": [
    "\n",
    "# a=torch.tensor(generate_2d(batch_size=10000,data_name=\"circles\"))\n",
    "# file_path = 'data/circles_2d.pt'\n",
    "# torch.save(a, file_path)\n",
    "\n"
   ]
  },
  {
   "cell_type": "code",
   "execution_count": 3,
   "metadata": {},
   "outputs": [],
   "source": [
    "def log_Gaussian(x,d):\n",
    "    return -d/2*math.log(2*math.pi)-torch.sum(x**2,dim=1).reshape(-1,1)/2\n",
    "\n",
    "def grad_log_Gaussian(x):\n",
    "    return -x\n",
    "\n",
    "def stepRK4(odefun, z, net,t0, t1):\n",
    "    h = t1 - t0 # step size\n",
    "    z0 = z\n",
    "    K = h * odefun(z0, t0, net)\n",
    "    z_temp = z0 + (1.0/6.0) * K\n",
    "    K = h * odefun( z0 + 0.5*K , t0+(h/2) ,net)\n",
    "    z_temp =z_temp+ (2.0/6.0) * K\n",
    "    K = h * odefun( z0 + 0.5*K , t0+(h/2) ,net)\n",
    "    z_temp = z_temp+(2.0/6.0) * K\n",
    "    K = h * odefun( z0 + K , t0+h ,net)\n",
    "    z_temp = z_temp+(1.0/6.0) * K\n",
    "    return z_temp\n",
    "\n",
    "def stepRK1(odefun, z, net, t0, t1):\n",
    "    h = t1 - t0 # step size\n",
    "    K =  odefun(z, t0, net)\n",
    "    return tuple( x+ h *y for x, y in zip(z, K))\n",
    "\n",
    "\n",
    "def divergence_bf(dx, y):\n",
    "    sum_diag = 0.\n",
    "    for i in range(y.shape[1]):\n",
    "        sum_diag += torch.autograd.grad(dx[:, i].sum(), y, create_graph=True)[0].contiguous()[:, i].contiguous()\n",
    "    return sum_diag.contiguous()\n",
    "\n",
    "def jac_div_graddivf(dx, y):\n",
    "    jacobian=[]\n",
    "    divergence= 0.\n",
    "    for i in range(y.shape[1]):\n",
    "        jacobian_i = torch.autograd.grad(dx[:,i].sum(), y, create_graph=True,retain_graph=True)[0].contiguous()\n",
    "        divergence += jacobian_i[:, i].contiguous()\n",
    "        jacobian.append(jacobian_i)\n",
    "    stacked_jacobbian = torch.stack(jacobian, dim=2)\n",
    "    grad_div_f=torch.autograd.grad(divergence.sum(), y, create_graph=True,retain_graph=True)[0]\n",
    "    return stacked_jacobbian.contiguous(),divergence.contiguous().view(y.shape[0],1),grad_div_f\n",
    "\n",
    "class ODE_forward(nn.Module):\n",
    "    def __init__(self, net):\n",
    "        super(ODE_forward, self).__init__()\n",
    "        self.f_theta = net\n",
    "    def forward(self, t, states):\n",
    "        x = states[0]\n",
    "        with torch.set_grad_enabled(True):\n",
    "            x.requires_grad_(True)\n",
    "            t.requires_grad_(True)\n",
    "\n",
    "            dy = self.f_theta(t, x)\n",
    "            divergence = divergence_bf(dy, x)\n",
    "\n",
    "        divergence = divergence.contiguous().view(x.shape[0],1)\n",
    "\n",
    "        return tuple([dy, -divergence])\n",
    "\n",
    "\n",
    "def odefun(x, t, net):\n",
    "    dx = net(t,x)\n",
    "    return dx\n",
    "\n",
    "\n",
    "def odefun_backward(cat_var, t, net):\n",
    "    d=net.d\n",
    "    x=cat_var[0]\n",
    "    score=cat_var[2]\n",
    "    \n",
    "\n",
    "\n",
    "    divergence_f=torch.zeros(x.shape[0],device=device)\n",
    "    \n",
    "    f=net(t, x).reshape(x.shape[0],-1)\n",
    "\n",
    "    jacobian = []\n",
    "    for i in range(d):\n",
    "        jacobian_i = autograd.grad(f[:,i].sum(), x, create_graph=True,retain_graph=True,)[0]\n",
    "        jacobian.append(jacobian_i)\n",
    "    stacked_jacobbian = torch.stack(jacobian, dim=2)\n",
    "\n",
    "\n",
    "    divergence_f = torch.diagonal(stacked_jacobbian, dim1=-2, dim2=-1).sum(-1).reshape(-1,1)\n",
    "    \n",
    "    d_log=-divergence_f.reshape(-1,1)\n",
    "\n",
    "    grad_div_f=autograd.grad(divergence_f.sum(), x, create_graph=True,retain_graph=True)[0]\n",
    "    J_mul_f=torch.bmm(stacked_jacobbian,score.unsqueeze(2)).squeeze()\n",
    "    d_score=(-grad_div_f-J_mul_f)\n",
    "    d_penalty=torch.mean(torch.sum((f+score)**2,dim=1))*torch.ones(x.shape[0],1).to(device)*0.5\n",
    "\n",
    "\n",
    "    return (f,d_log,d_score,d_penalty)\n"
   ]
  },
  {
   "cell_type": "code",
   "execution_count": 4,
   "metadata": {},
   "outputs": [
    {
     "name": "stdout",
     "output_type": "stream",
     "text": [
      "total parameter is:  9224\n"
     ]
    }
   ],
   "source": [
    "\n",
    "device = 'cuda:2' #@param ['cuda', 'cpu'] {'type':'string'}\n",
    "\n",
    "n_epochs =  800#@param {'type':'integer'}\n",
    "batch_size =  1000 #@param {'type':'integer'}\n",
    "lr=4e-2 #@param {'type':'number'}\n",
    "tspan=[0,1]\n",
    "data_name=\"checkerboard\"  # \"moon\" \"checkerboard\" \"circles\"\n",
    "d=2\n",
    "nt=8\n",
    "h=(tspan[1]-tspan[0])/nt\n",
    "\n",
    "\n",
    "f_theta = ODEnet(d=2)\n",
    "ODE_forward=ODE_forward(f_theta).to(device)\n",
    "count_parameters(ODE_forward)\n",
    "optim = AdamW(ODE_forward.parameters(), lr=lr,weight_decay=1e-5)\n",
    "\n",
    "\n",
    "\n"
   ]
  },
  {
   "cell_type": "code",
   "execution_count": 5,
   "metadata": {},
   "outputs": [
    {
     "name": "stderr",
     "output_type": "stream",
     "text": [
      "  0%|          | 0/800 [00:00<?, ?it/s]"
     ]
    },
    {
     "name": "stdout",
     "output_type": "stream",
     "text": [
      "tensor(5.2970, device='cuda:2', grad_fn=<NegBackward>)\n"
     ]
    },
    {
     "name": "stderr",
     "output_type": "stream",
     "text": [
      "\n"
     ]
    },
    {
     "ename": "RuntimeError",
     "evalue": "one of the variables needed for gradient computation has been modified by an inplace operation: [torch.cuda.FloatTensor [1, 1]] is at version 9; expected version 8 instead. Hint: enable anomaly detection to find the operation that failed to compute its gradient, with torch.autograd.set_detect_anomaly(True).",
     "output_type": "error",
     "traceback": [
      "\u001b[0;31m---------------------------------------------------------------------------\u001b[0m",
      "\u001b[0;31mRuntimeError\u001b[0m                              Traceback (most recent call last)",
      "\u001b[0;32m<ipython-input-5-9f3b61ecd5bb>\u001b[0m in \u001b[0;36m<module>\u001b[0;34m\u001b[0m\n\u001b[1;32m     47\u001b[0m \u001b[0;34m\u001b[0m\u001b[0m\n\u001b[1;32m     48\u001b[0m     \u001b[0moptim\u001b[0m\u001b[0;34m.\u001b[0m\u001b[0mzero_grad\u001b[0m\u001b[0;34m(\u001b[0m\u001b[0;34m)\u001b[0m\u001b[0;34m\u001b[0m\u001b[0;34m\u001b[0m\u001b[0m\n\u001b[0;32m---> 49\u001b[0;31m     \u001b[0mloss\u001b[0m\u001b[0;34m.\u001b[0m\u001b[0mbackward\u001b[0m\u001b[0;34m(\u001b[0m\u001b[0;34m)\u001b[0m\u001b[0;34m\u001b[0m\u001b[0;34m\u001b[0m\u001b[0m\n\u001b[0m\u001b[1;32m     50\u001b[0m     \u001b[0moptim\u001b[0m\u001b[0;34m.\u001b[0m\u001b[0mstep\u001b[0m\u001b[0;34m(\u001b[0m\u001b[0;34m)\u001b[0m\u001b[0;34m\u001b[0m\u001b[0;34m\u001b[0m\u001b[0m\n\u001b[1;32m     51\u001b[0m     \u001b[0mllh_record\u001b[0m\u001b[0;34m.\u001b[0m\u001b[0mappend\u001b[0m\u001b[0;34m(\u001b[0m\u001b[0;34m-\u001b[0m\u001b[0mlikelihood\u001b[0m\u001b[0;34m.\u001b[0m\u001b[0mdetach\u001b[0m\u001b[0;34m(\u001b[0m\u001b[0;34m)\u001b[0m\u001b[0;34m.\u001b[0m\u001b[0mcpu\u001b[0m\u001b[0;34m(\u001b[0m\u001b[0;34m)\u001b[0m\u001b[0;34m)\u001b[0m\u001b[0;34m\u001b[0m\u001b[0;34m\u001b[0m\u001b[0m\n",
      "\u001b[0;32m~/.local/lib/python3.8/site-packages/torch/tensor.py\u001b[0m in \u001b[0;36mbackward\u001b[0;34m(self, gradient, retain_graph, create_graph)\u001b[0m\n\u001b[1;32m    219\u001b[0m                 \u001b[0mretain_graph\u001b[0m\u001b[0;34m=\u001b[0m\u001b[0mretain_graph\u001b[0m\u001b[0;34m,\u001b[0m\u001b[0;34m\u001b[0m\u001b[0;34m\u001b[0m\u001b[0m\n\u001b[1;32m    220\u001b[0m                 create_graph=create_graph)\n\u001b[0;32m--> 221\u001b[0;31m         \u001b[0mtorch\u001b[0m\u001b[0;34m.\u001b[0m\u001b[0mautograd\u001b[0m\u001b[0;34m.\u001b[0m\u001b[0mbackward\u001b[0m\u001b[0;34m(\u001b[0m\u001b[0mself\u001b[0m\u001b[0;34m,\u001b[0m \u001b[0mgradient\u001b[0m\u001b[0;34m,\u001b[0m \u001b[0mretain_graph\u001b[0m\u001b[0;34m,\u001b[0m \u001b[0mcreate_graph\u001b[0m\u001b[0;34m)\u001b[0m\u001b[0;34m\u001b[0m\u001b[0;34m\u001b[0m\u001b[0m\n\u001b[0m\u001b[1;32m    222\u001b[0m \u001b[0;34m\u001b[0m\u001b[0m\n\u001b[1;32m    223\u001b[0m     \u001b[0;32mdef\u001b[0m \u001b[0mregister_hook\u001b[0m\u001b[0;34m(\u001b[0m\u001b[0mself\u001b[0m\u001b[0;34m,\u001b[0m \u001b[0mhook\u001b[0m\u001b[0;34m)\u001b[0m\u001b[0;34m:\u001b[0m\u001b[0;34m\u001b[0m\u001b[0;34m\u001b[0m\u001b[0m\n",
      "\u001b[0;32m~/.local/lib/python3.8/site-packages/torch/autograd/__init__.py\u001b[0m in \u001b[0;36mbackward\u001b[0;34m(tensors, grad_tensors, retain_graph, create_graph, grad_variables)\u001b[0m\n\u001b[1;32m    128\u001b[0m         \u001b[0mretain_graph\u001b[0m \u001b[0;34m=\u001b[0m \u001b[0mcreate_graph\u001b[0m\u001b[0;34m\u001b[0m\u001b[0;34m\u001b[0m\u001b[0m\n\u001b[1;32m    129\u001b[0m \u001b[0;34m\u001b[0m\u001b[0m\n\u001b[0;32m--> 130\u001b[0;31m     Variable._execution_engine.run_backward(\n\u001b[0m\u001b[1;32m    131\u001b[0m         \u001b[0mtensors\u001b[0m\u001b[0;34m,\u001b[0m \u001b[0mgrad_tensors_\u001b[0m\u001b[0;34m,\u001b[0m \u001b[0mretain_graph\u001b[0m\u001b[0;34m,\u001b[0m \u001b[0mcreate_graph\u001b[0m\u001b[0;34m,\u001b[0m\u001b[0;34m\u001b[0m\u001b[0;34m\u001b[0m\u001b[0m\n\u001b[1;32m    132\u001b[0m         allow_unreachable=True)  # allow_unreachable flag\n",
      "\u001b[0;31mRuntimeError\u001b[0m: one of the variables needed for gradient computation has been modified by an inplace operation: [torch.cuda.FloatTensor [1, 1]] is at version 9; expected version 8 instead. Hint: enable anomaly detection to find the operation that failed to compute its gradient, with torch.autograd.set_detect_anomaly(True)."
     ]
    }
   ],
   "source": [
    "\n",
    "llh_record=[]\n",
    "v_pen_record=[]\n",
    "tqdm_epoch = tqdm.trange(n_epochs)\n",
    "\n",
    "for epoch in tqdm_epoch:\n",
    "    \n",
    "    #resample\n",
    "    if epoch%1==0:\n",
    "        x=torch.tensor(generate_2d(batch_size=batch_size,data_name=data_name)).float()\n",
    "        x = x.to(device)\n",
    "         \n",
    "    _logpz = torch.zeros(x.shape[0], 1).to(x)\n",
    "\n",
    "    integration_times = torch.tensor([0.0, 1.]).float().to(device)\n",
    "    state_t = odeint(\n",
    "                ODE_forward,\n",
    "                (x,_logpz),\n",
    "                integration_times,\n",
    "                atol=1e-5,\n",
    "                rtol=1e-5,\n",
    "                method=\"dopri5\"\n",
    "            )\n",
    "    z_terminal,delta_log=tuple(s[1] for s in state_t)  #delta_log = \\int -trace\n",
    "    log_terminal=log_Gaussian(x=z_terminal,d=d)\n",
    "    likelihood=torch.mean(log_terminal)-delta_log.mean()\n",
    "\n",
    "    score_terminal=grad_log_Gaussian(z_terminal)\n",
    "    \n",
    "\n",
    "    tk=tspan[1]\n",
    "    tk=torch.tensor([tk]).squeeze().to(x)\n",
    "    z_back=z_terminal\n",
    "\n",
    "    bridge_penalty=torch.zeros(x.shape[0], 1).to(x)\n",
    "    cat_var=(z_back,log_terminal,score_terminal,torch.zeros(x.shape[0], 1).to(x))\n",
    "\n",
    "    \n",
    "    for k in  range(nt):\n",
    "        cat_var= stepRK1(odefun_backward, cat_var , f_theta, tk, tk-h)\n",
    "        tk-=h\n",
    "\n",
    "    z,log_inv,score,bridge_pen=cat_var\n",
    "    bridge_pen=-bridge_pen.mean()\n",
    "    print(bridge_pen)\n",
    "    loss=-likelihood*10  + bridge_pen\n",
    "\n",
    "    \n",
    "    optim.zero_grad()\n",
    "    loss.backward()\n",
    "    optim.step()\n",
    "    llh_record.append(-likelihood.detach().cpu())\n",
    "    v_pen_record.append(-bridge_pen.detach().cpu())\n",
    "    tqdm_epoch.set_description('nll: {:5f} Bridge: {:5f}  '.format(-likelihood.detach().cpu(),-bridge_pen.detach().cpu()))\n",
    "\n",
    "    if (epoch+1) % 50== 0:  ##Viz\n",
    "        torch.save(f_theta.state_dict(), f'experiment/{data_name}/{data_name}_2d.pth')\n",
    "\n",
    "        #forward process\n",
    "        x=torch.tensor(generate_2d(batch_size=10000,data_name=data_name)).float().to(device)\n",
    "        integration_times = torch.linspace(0,1,8).to(device)\n",
    "        state_t_forward = odeint(f_theta,x,integration_times,atol=1e-5,rtol=1e-5,method=\"dopri5\")\n",
    "\n",
    "        x=torch.randn(10000,2).to(device)\n",
    "        integration_times = torch.linspace(1,0,8).to(device)\n",
    "        state_t_backward = odeint(f_theta,x,integration_times,atol=1e-5,rtol=1e-5,method=\"dopri5\")\n",
    "\n",
    "        plot_z_state(state_t_forward,state_t_backward,save_path='experiment/'+data_name+'/pic/Forward_backward.png')\n",
    "\n",
    "        x=torch.randn(10000,2).to(device)\n",
    "        integration_times = torch.linspace(1,0,21).to(device)\n",
    "        state_t = odeint(f_theta,x,integration_times,atol=1e-5,rtol=1e-5,method=\"dopri5\")\n",
    "        plot_ode_trajectory(state_t,save_path='experiment/'+data_name+'/pic/trajectories.png')\n",
    "        \n",
    "\n",
    "\n",
    "\n",
    "\n"
   ]
  },
  {
   "cell_type": "code",
   "execution_count": null,
   "metadata": {},
   "outputs": [
    {
     "data": {
      "image/png": "[encoded data removed]",
      "text/plain": [
       "<Figure size 1500x500 with 3 Axes>"
      ]
     },
     "metadata": {},
     "output_type": "display_data"
    },
    {
     "ename": "IndexError",
     "evalue": "list index out of range",
     "output_type": "error",
     "traceback": [
      "\u001b[0;31m---------------------------------------------------------------------------\u001b[0m",
      "\u001b[0;31mIndexError\u001b[0m                                Traceback (most recent call last)",
      "Cell \u001b[0;32mIn[7], line 3\u001b[0m\n\u001b[1;32m      1\u001b[0m \u001b[38;5;66;03m# plot_loss(llh_record)\u001b[39;00m\n\u001b[1;32m      2\u001b[0m plot_loss_all(llh_record,llh_record)\n\u001b[0;32m----> 3\u001b[0m \u001b[38;5;28mprint\u001b[39m(v_pen_record[\u001b[38;5;241m-\u001b[39m\u001b[38;5;241m1\u001b[39m])\n",
      "\u001b[0;31mIndexError\u001b[0m: list index out of range"
     ]
    }
   ],
   "source": [
    "\n",
    "# plot_loss(llh_record)\n",
    "plot_loss_all(llh_record,v_pen_record)\n",
    "print(v_pen_record[-1])\n"
   ]
  }
 ],
 "metadata": {
  "kernelspec": {
   "display_name": "Python 3",
   "language": "python",
   "name": "python3"
  },
  "language_info": {
   "codemirror_mode": {
    "name": "ipython",
    "version": 3
   },
   "file_extension": ".py",
   "mimetype": "text/x-python",
   "name": "python",
   "nbconvert_exporter": "python",
   "pygments_lexer": "ipython3",
   "version": "3.8.10"
  }
 },
 "nbformat": 4,
 "nbformat_minor": 2
}
