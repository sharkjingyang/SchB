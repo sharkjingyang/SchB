{
 "cells": [
  {
   "cell_type": "code",
   "execution_count": 1,
   "metadata": {},
   "outputs": [],
   "source": [
    "import torch\n",
    "import torch.nn as nn\n",
    "import torch.nn.functional as F\n",
    "import numpy as np\n",
    "import matplotlib.pyplot as plt\n",
    "import math\n",
    "import numpy\n",
    "from torch.nn.functional import pad\n",
    "import torch.nn.init as init\n",
    "import copy\n",
    "from torch import autograd\n",
    "from torchvision.utils import make_grid\n",
    "from torch.optim import Adam\n",
    "from torch.utils.data import DataLoader,TensorDataset\n",
    "import torchvision.transforms as transforms\n",
    "from torchvision.datasets import MNIST\n",
    "import tqdm\n",
    "import functools\n",
    "import time\n",
    "\n",
    "from network_class import *\n",
    "from utils import *\n"
   ]
  },
  {
   "cell_type": "code",
   "execution_count": 2,
   "metadata": {},
   "outputs": [
    {
     "data": {
      "text/plain": [
       "<matplotlib.contour.QuadContourSet at 0x7f10a978cd90>"
      ]
     },
     "execution_count": 2,
     "metadata": {},
     "output_type": "execute_result"
    },
    {
     "data": {
      "image/png": "[encoded data removed]",
      "text/plain": [
       "<Figure size 432x288 with 1 Axes>"
      ]
     },
     "metadata": {
      "needs_background": "light"
     },
     "output_type": "display_data"
    }
   ],
   "source": [
    "\n",
    "def u(x,DELTA=0.125):\n",
    "    x0 = x[:, 0]\n",
    "    x1 = x[:, 1]\n",
    "    return 1/2*(x0**2-1)**2 + x1**2 + 1/DELTA*torch.exp(-(x0**2+x1**2)/DELTA/4)\n",
    "\n",
    "def grad_u(x,DELTA=0.125):\n",
    "    x0 = x[:, 0]  # 取所有batch的第一个维度\n",
    "    x1 = x[:, 1]  # 取所有batch的第二个维度\n",
    "    grad_x0 = 1 * (x0**2 - 1) * 2 * x0 - (2 * x0 / DELTA) * torch.exp(-(x0**2 + x1**2) / DELTA /4)\n",
    "    grad_x1 = 2 * x1 - (2 * x1 / DELTA) * torch.exp(-(x0**2 + x1**2) / DELTA / 4)\n",
    "    grad = torch.stack([grad_x0, grad_x1], dim=1)\n",
    "    return grad*0.3\n",
    "\n",
    "x0 = np.linspace(-2, 2, 100)\n",
    "x1 = np.linspace(-2, 2, 100)\n",
    "x0, x1 = np.meshgrid(x0, x1)\n",
    "\n",
    "x_grid = torch.tensor(np.stack([x0, x1], axis=-1).reshape(-1, 2)).float()\n",
    "u_values = u(x_grid).reshape(100, 100)\n",
    "\n",
    "# plt.contour(x0, x1, u_values, levels=12)\n",
    "plt.contourf(x0, x1, u_values, levels=12)\n",
    "\n"
   ]
  },
  {
   "cell_type": "code",
   "execution_count": 3,
   "metadata": {},
   "outputs": [
    {
     "name": "stdout",
     "output_type": "stream",
     "text": [
      "total parameter is:  4416\n"
     ]
    }
   ],
   "source": [
    "\n",
    "device = 'cuda:2' #@param ['cuda', 'cpu'] {'type':'string'}\n",
    "\n",
    "n_epochs =  600#@param {'type':'integer'}\n",
    "batch_size =  1000 #@param {'type':'integer'}\n",
    "lr=1e-2 #@param {'type':'number'}\n",
    "tspan=[0,1]\n",
    "data_name=\"double_well\"  # \"moon\" \"checkerboard\" \"circles\"\n",
    "d=2\n",
    "nt=8\n",
    "h=(tspan[1]-tspan[0])/nt\n",
    "f_theta = velocity_net(d=2)\n",
    "f_theta = f_theta.to(device)\n",
    "count_parameters(f_theta)\n",
    "optim = Adam(f_theta.parameters(), lr=lr, weight_decay=1e-5)\n",
    "\n",
    "\n"
   ]
  },
  {
   "cell_type": "code",
   "execution_count": 4,
   "metadata": {},
   "outputs": [],
   "source": [
    "def log_Gaussian(x,d):\n",
    "    return -d/2*math.log(2*math.pi)-torch.sum(x**2,dim=1).reshape(-1,1)/2\n",
    "\n",
    "def grad_log_Gaussian(x):\n",
    "    return -x\n",
    "\n",
    "def log_Terminal(x):\n",
    "    mean_terminal = torch.tensor([1, 0], device=device)\n",
    "    sigma_terminal = torch.tensor([[0.0125, 0], [0, 0.15]], device=device)\n",
    "    return -(torch.matmul(x-mean_terminal, torch.inverse(sigma_terminal))*(x-mean_terminal)).sum(axis=1).unsqueeze(1)/2\n",
    "\n",
    "\n",
    "def grad_log_Terminal(x):\n",
    "    mean_terminal = torch.tensor([1, 0], device=device)\n",
    "    sigma_terminal = torch.tensor([[0.0125, 0], [0, 0.15]], device=device)\n",
    "    return -torch.matmul(x-mean_terminal, torch.inverse(sigma_terminal))\n",
    "\n",
    "def stepRK4(odefun, z, net,t0, t1):\n",
    "    h = t1 - t0 # step size\n",
    "    z0 = z\n",
    "    K = h * odefun(z0, t0, net)\n",
    "    z_temp = z0 + (1.0/6.0) * K\n",
    "    K = h * odefun( z0 + 0.5*K , t0+(h/2) ,net)\n",
    "    z_temp =z_temp+ (2.0/6.0) * K\n",
    "    K = h * odefun( z0 + 0.5*K , t0+(h/2) ,net)\n",
    "    z_temp = z_temp+(2.0/6.0) * K\n",
    "    K = h * odefun( z0 + K , t0+h ,net)\n",
    "    z_temp = z_temp+(1.0/6.0) * K\n",
    "    return z_temp\n",
    "\n",
    "\n",
    "\n",
    "def stepRK1(odefun, z, net,t0, t1):\n",
    "    z0 = z\n",
    "    z_temp =z0 + (t1 - t0) * odefun(z0, t0, net)\n",
    "\n",
    "    return z_temp\n",
    "\n",
    "def odefun(x, t, net):\n",
    "    dx = net(x,t)-grad_u(x)\n",
    "    return dx\n",
    "\n",
    "\n",
    "def odefun_backward(cat_var, t, net):\n",
    "    x=cat_var[:,0:d]\n",
    "    score=cat_var[:,d+1:-1]\n",
    "    \n",
    "\n",
    "\n",
    "    divergence_f=torch.zeros(x.shape[0],device=device)\n",
    "    \n",
    "    f=(net(x, t)-grad_u(x)).reshape(x.shape[0],-1)\n",
    "\n",
    "    jacobian = []\n",
    "    for i in range(d):\n",
    "        jacobian_i = autograd.grad(f[:,i].sum(), x, create_graph=True,retain_graph=True)[0]\n",
    "        # torch.autograd.functional.jacobian\n",
    "        jacobian.append(jacobian_i)\n",
    "        # print(jacobian_i[0])\n",
    "    stacked_jacobbian = torch.stack(jacobian, dim=2)\n",
    "    # print(stacked_jacobbian[0,:,:])\n",
    "\n",
    "    \n",
    "    #精确计算divergence_f\n",
    "    # for i in range(d):\n",
    "    #     grad = autograd.grad(f[:,i].sum(), x, create_graph=True)[0]\n",
    "    #     divergence_f+= grad[:,i]\n",
    "    divergence_f = torch.diagonal(stacked_jacobbian, dim1=-2, dim2=-1).sum(-1).reshape(-1,1)\n",
    "    \n",
    "\n",
    "    # # 近似计算divergence_f\n",
    "    # v=torch.randn(f.shape).to(device)\n",
    "    # vf=torch.sum(f*v, dim=1)\n",
    "    # a=autograd.grad(vf.sum(),x,create_graph=True)[0].reshape(x.shape[0],-1)\n",
    "    # divergence_f=torch.sum(a*v, dim=1)\n",
    "\n",
    "    \n",
    "    d_log=-divergence_f.reshape(-1,1)\n",
    "\n",
    "\n",
    "    #calculate jacobbian \n",
    "    grad_div_f=autograd.grad(divergence_f.sum(), x, create_graph=True,retain_graph=True)[0]\n",
    "    # stacked_jacobbian_transpose = torch.transpose(stacked_jacobbian, 1, 2)\n",
    "    J_mul_f=torch.bmm(stacked_jacobbian,score.unsqueeze(2)).squeeze()\n",
    "    d_score=(-grad_div_f-J_mul_f)\n",
    "    d_penalty=torch.mean(torch.sum((f+score)**2,dim=1))*torch.ones(x.shape[0],1).to(device)*0.5\n",
    "\n",
    "\n",
    "    # d_score=torch.zeros(x.shape[0],d).to(device)\n",
    "    # d_penalty=torch.zeros(x.shape[0],1).to(device)\n",
    "\n",
    "\n",
    "    return torch.cat((f,d_log,d_score,d_penalty),dim=1)\n"
   ]
  },
  {
   "cell_type": "code",
   "execution_count": 5,
   "metadata": {},
   "outputs": [
    {
     "name": "stderr",
     "output_type": "stream",
     "text": [
      "Loss: 3.640291:  17%|█▋        | 100/600 [03:30<17:58,  2.16s/it] "
     ]
    },
    {
     "name": "stdout",
     "output_type": "stream",
     "text": [
      "lr:  0.005\n"
     ]
    },
    {
     "name": "stderr",
     "output_type": "stream",
     "text": [
      "Loss: 2.591057:  33%|███▎      | 200/600 [07:06<14:21,  2.15s/it]"
     ]
    },
    {
     "name": "stdout",
     "output_type": "stream",
     "text": [
      "lr:  0.0025\n"
     ]
    },
    {
     "name": "stderr",
     "output_type": "stream",
     "text": [
      "Loss: 2.525014:  50%|█████     | 300/600 [10:46<10:55,  2.18s/it]"
     ]
    },
    {
     "name": "stdout",
     "output_type": "stream",
     "text": [
      "lr:  0.00125\n"
     ]
    },
    {
     "name": "stderr",
     "output_type": "stream",
     "text": [
      "Loss: 2.428352:  67%|██████▋   | 400/600 [14:27<07:18,  2.19s/it]"
     ]
    },
    {
     "name": "stdout",
     "output_type": "stream",
     "text": [
      "lr:  0.000625\n"
     ]
    },
    {
     "name": "stderr",
     "output_type": "stream",
     "text": [
      "Loss: 2.408736:  83%|████████▎ | 500/600 [18:05<03:44,  2.24s/it]"
     ]
    },
    {
     "name": "stdout",
     "output_type": "stream",
     "text": [
      "lr:  0.0003125\n"
     ]
    },
    {
     "name": "stderr",
     "output_type": "stream",
     "text": [
      "Loss: 2.405197: 100%|██████████| 600/600 [21:50<00:00,  2.18s/it]"
     ]
    },
    {
     "name": "stdout",
     "output_type": "stream",
     "text": [
      "lr:  0.00015625\n"
     ]
    },
    {
     "name": "stderr",
     "output_type": "stream",
     "text": [
      "\n"
     ]
    }
   ],
   "source": [
    "llh_record=[]\n",
    "v_pen_record=[]\n",
    "\n",
    "tqdm_epoch = tqdm.trange(n_epochs)\n",
    "\n",
    "for epoch in tqdm_epoch:\n",
    "    \n",
    "    #resample\n",
    "    x=torch.tensor(generate_2d(batch_size=batch_size,data_name=data_name)).float().to(device)\n",
    "         \n",
    "\n",
    "    z_temp,tk=x,0\n",
    "    for k in range(nt):\n",
    "        tk=h*k\n",
    "        z_temp = stepRK4(odefun, z_temp , f_theta, tk, tk+h)\n",
    "\n",
    " \n",
    "\n",
    "\n",
    "    z_terminal=z_temp\n",
    "    log_terminal=log_Terminal(x=z_terminal)\n",
    "    log_temp=log_terminal\n",
    " \n",
    "    score_terminal=grad_log_Terminal(z_terminal)\n",
    "    score_temp=score_terminal\n",
    "    \n",
    "\n",
    "    tk=tspan[1]\n",
    "    z_back=z_terminal\n",
    "    cat_var=torch.cat((z_back,log_temp,score_temp),dim=1)\n",
    "    cat_var=pad(cat_var,(0,1,0,0),value=0)\n",
    "    \n",
    "\n",
    "    for k in  range(nt):\n",
    "        cat_var= stepRK4(odefun_backward, cat_var , f_theta, tk, tk-h)\n",
    "        tk-=h\n",
    "\n",
    "\n",
    "    z,log_temp,bridge_pen=cat_var[:,0:d],cat_var[:,d],-cat_var[0,-1]\n",
    "    optim.zero_grad()\n",
    "\n",
    "    loss=-torch.mean(log_temp)*10  + bridge_pen\n",
    "    loss.backward()\n",
    "    optim.step()\n",
    "    llh_record.append(-torch.mean(log_temp).detach().cpu())\n",
    "    v_pen_record.append(bridge_pen.detach().cpu())\n",
    "    tqdm_epoch.set_description('Loss: {:5f}'.format(-torch.mean(log_temp).detach().cpu()))\n",
    "    torch.save(f_theta.state_dict(), 'experiment/'+data_name+'_2d.pth')\n",
    "    if (epoch+1) % 100 == 0:\n",
    "            for p in optim.param_groups:\n",
    "                p['lr'] /= 2\n",
    "            print(\"lr: \", p['lr'])\n",
    "    \n",
    "    if epoch % 50 == 0:\n",
    "        f_theta.eval()\n",
    "        x=torch.tensor(generate_2d(batch_size=10000,data_name=data_name)).float().to(device)\n",
    "        nt_val=24\n",
    "        h_val=1/nt_val\n",
    "        zFull_inverse = torch.zeros(*x.shape , nt_val+1, device=x.device, dtype=x.dtype) # make tensor of size z.shape[0], z.shape[1], nt\n",
    "        zFull_inverse[:,:,0] = x\n",
    "        for k in range(nt_val):\n",
    "            tk=h_val*k\n",
    "            zFull_inverse[:,:,k+1] = stepRK4(odefun, zFull_inverse[:,:,k] , f_theta, tk, tk+h_val)\n",
    "\n",
    "\n",
    "        z_backward=zFull_inverse.detach().cpu().numpy()\n",
    "        fig, axs = plt.subplots(1, nt+1, figsize=(18,2.5))\n",
    "        for i in range(nt+1):\n",
    "            axs[i].hist2d(z_backward[:,0,3*i],z_backward[:,1,3*i],bins=100, range=[[-2, 2], [-2, 2]])\n",
    "        plt.tight_layout()\n",
    "        plt.savefig(\"history_code/forward.png\")\n",
    "        plt.close()\n",
    "\n",
    "\n",
    "\n",
    "        plt.figure(figsize=(10, 6))\n",
    "        for i in range(50):\n",
    "            plt.plot(z_backward[i,0,:],z_backward[i,1,:],color=\"white\",marker='o', linestyle='-',markersize=3)\n",
    "        x0 = np.linspace(-2, 2, 100)\n",
    "        x1 = np.linspace(-2, 2, 100)\n",
    "        x0, x1 = np.meshgrid(x0, x1)\n",
    "        x_grid = torch.tensor(np.stack([x0, x1], axis=-1).reshape(-1, 2)).float()\n",
    "        u_values = u(x_grid).reshape(100, 100)\n",
    "        plt.contourf(x0, x1, u_values, levels=12)\n",
    "        plt.tight_layout()\n",
    "        plt.savefig(\"history_code/trajectory.png\")\n",
    "        plt.close()\n",
    "        f_theta.train()\n",
    "\n",
    "\n",
    "    \n",
    "    \n",
    " \n",
    "\n"
   ]
  },
  {
   "cell_type": "code",
   "execution_count": 6,
   "metadata": {},
   "outputs": [
    {
     "data": {
      "image/png": "[encoded data removed]",
      "text/plain": [
       "<Figure size 1080x360 with 3 Axes>"
      ]
     },
     "metadata": {
      "needs_background": "light"
     },
     "output_type": "display_data"
    },
    {
     "name": "stdout",
     "output_type": "stream",
     "text": [
      "tensor(8.7519)\n"
     ]
    }
   ],
   "source": [
    "\n",
    "plot_loss_all(llh_record,v_pen_record)\n",
    "print(v_pen_record[-1])\n"
   ]
  },
  {
   "cell_type": "code",
   "execution_count": null,
   "metadata": {},
   "outputs": [],
   "source": [
    "\n",
    "\n"
   ]
  }
 ],
 "metadata": {
  "kernelspec": {
   "display_name": "Python 3",
   "language": "python",
   "name": "python3"
  },
  "language_info": {
   "codemirror_mode": {
    "name": "ipython",
    "version": 3
   },
   "file_extension": ".py",
   "mimetype": "text/x-python",
   "name": "python",
   "nbconvert_exporter": "python",
   "pygments_lexer": "ipython3",
   "version": "3.8.10"
  }
 },
 "nbformat": 4,
 "nbformat_minor": 2
}
